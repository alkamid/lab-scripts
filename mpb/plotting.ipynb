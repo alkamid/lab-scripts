{
 "cells": [
  {
   "cell_type": "code",
   "execution_count": 1,
   "metadata": {},
   "outputs": [
    {
     "name": "stdout",
     "output_type": "stream",
     "text": [
      "Initializing eigensolver data\n",
      "Computing 8 bands with 1e-07 tolerance\n",
      "34 k-points\n",
      "  Vector3<0.0, 0.0, 0.0>\n",
      "  Vector3<0.0, 0.045454545454545456, 0.0>\n",
      "  Vector3<0.0, 0.09090909090909091, 0.0>\n",
      "  Vector3<0.0, 0.13636363636363635, 0.0>\n",
      "  Vector3<0.0, 0.18181818181818182, 0.0>\n",
      "  Vector3<0.0, 0.2272727272727273, 0.0>\n",
      "  Vector3<0.0, 0.2727272727272727, 0.0>\n",
      "  Vector3<0.0, 0.3181818181818182, 0.0>\n",
      "  Vector3<0.0, 0.36363636363636365, 0.0>\n",
      "  Vector3<0.0, 0.4090909090909091, 0.0>\n",
      "  Vector3<0.0, 0.4545454545454546, 0.0>\n",
      "  Vector3<0.0, 0.5, 0.0>\n",
      "  Vector3<-0.0303030303030303, 0.48484848484848486, 0.0>\n",
      "  Vector3<-0.0606060606060606, 0.46969696969696967, 0.0>\n",
      "  Vector3<-0.0909090909090909, 0.45454545454545453, 0.0>\n",
      "  Vector3<-0.1212121212121212, 0.4393939393939394, 0.0>\n",
      "  Vector3<-0.1515151515151515, 0.4242424242424242, 0.0>\n",
      "  Vector3<-0.1818181818181818, 0.40909090909090906, 0.0>\n",
      "  Vector3<-0.2121212121212121, 0.3939393939393939, 0.0>\n",
      "  Vector3<-0.2424242424242424, 0.3787878787878788, 0.0>\n",
      "  Vector3<-0.2727272727272727, 0.36363636363636365, 0.0>\n",
      "  Vector3<-0.303030303030303, 0.34848484848484845, 0.0>\n",
      "  Vector3<-0.3333333333333333, 0.3333333333333333, 0.0>\n",
      "  Vector3<-0.30303030303030304, 0.30303030303030304, 0.0>\n",
      "  Vector3<-0.2727272727272727, 0.2727272727272727, 0.0>\n",
      "  Vector3<-0.24242424242424243, 0.24242424242424243, 0.0>\n",
      "  Vector3<-0.2121212121212121, 0.2121212121212121, 0.0>\n",
      "  Vector3<-0.18181818181818182, 0.18181818181818182, 0.0>\n",
      "  Vector3<-0.15151515151515152, 0.15151515151515152, 0.0>\n",
      "  Vector3<-0.12121212121212122, 0.12121212121212122, 0.0>\n",
      "  Vector3<-0.09090909090909091, 0.09090909090909091, 0.0>\n",
      "  Vector3<-0.06060606060606061, 0.06060606060606061, 0.0>\n",
      "  Vector3<-0.03030303030303033, 0.03030303030303033, 0.0>\n",
      "  Vector3<0.0, 0.0, 0.0>\n",
      "elapsed time for initialization: 0.0048296451568603516\n",
      "Outputting epsilon.h5...\n",
      "elapsed time for k point: 0.07717466354370117\n",
      "elapsed time for k point: 0.044971466064453125\n",
      "elapsed time for k point: 0.04034829139709473\n",
      "elapsed time for k point: 0.043203115463256836\n",
      "elapsed time for k point: 0.06350564956665039\n",
      "elapsed time for k point: 0.03676939010620117\n",
      "elapsed time for k point: 0.04258251190185547\n",
      "elapsed time for k point: 0.04217195510864258\n",
      "elapsed time for k point: 0.04337930679321289\n",
      "elapsed time for k point: 0.058980703353881836\n",
      "elapsed time for k point: 0.03945183753967285\n",
      "elapsed time for k point: 0.03976583480834961\n",
      "elapsed time for k point: 0.06740498542785645\n",
      "elapsed time for k point: 0.05871224403381348\n",
      "elapsed time for k point: 0.039623260498046875\n",
      "elapsed time for k point: 0.041029930114746094\n",
      "elapsed time for k point: 0.036249399185180664\n",
      "elapsed time for k point: 0.03565359115600586\n",
      "elapsed time for k point: 0.05867934226989746\n",
      "elapsed time for k point: 0.03459286689758301\n",
      "elapsed time for k point: 0.03743577003479004\n",
      "elapsed time for k point: 0.03988361358642578\n",
      "elapsed time for k point: 0.034384727478027344\n",
      "elapsed time for k point: 0.03908705711364746\n",
      "elapsed time for k point: 0.05443859100341797\n",
      "elapsed time for k point: 0.04035758972167969\n",
      "elapsed time for k point: 0.03983664512634277\n",
      "elapsed time for k point: 0.039566993713378906\n",
      "elapsed time for k point: 0.0443418025970459\n",
      "elapsed time for k point: 0.04936099052429199\n",
      "elapsed time for k point: 0.06439900398254395\n",
      "elapsed time for k point: 0.05106520652770996\n",
      "elapsed time for k point: 0.050637245178222656\n",
      "elapsed time for k point: 0.0414736270904541\n",
      "Band 1 range: 0.0 at Vector3<0.0, 0.0, 0.0> to 0.22878697388087121 at Vector3<-0.3333333333333333, 0.3333333333333333, 0.0>\n",
      "Band 2 range: 0.3066223040599163 at Vector3<0.0, 0.5, 0.0> to 0.4367426627292241 at Vector3<0.0, 0.0, 0.0>\n",
      "Band 3 range: 0.3467698802437271 at Vector3<-0.3333333333333333, 0.3333333333333333, 0.0> to 0.43684934468726316 at Vector3<0.0, 0.0, 0.0>\n",
      "Band 4 range: 0.4603794511991463 at Vector3<0.0, 0.0, 0.0> to 0.5787586659725432 at Vector3<-0.3333333333333333, 0.3333333333333333, 0.0>\n",
      "Band 5 range: 0.5646992054451095 at Vector3<-0.2121212121212121, 0.2121212121212121, 0.0> to 0.6151179218789232 at Vector3<0.0, 0.5, 0.0>\n",
      "Band 6 range: 0.6028005040819665 at Vector3<0.0, 0.0, 0.0> to 0.6577746481135313 at Vector3<-0.1212121212121212, 0.4393939393939394, 0.0>\n",
      "Band 7 range: 0.659279276108018 at Vector3<-0.1212121212121212, 0.4393939393939394, 0.0> to 0.7390354806790289 at Vector3<-0.12121212121212122, 0.12121212121212122, 0.0>\n",
      "Band 8 range: 0.6929572075806846 at Vector3<-0.3333333333333333, 0.3333333333333333, 0.0> to 0.7846797749994332 at Vector3<0.0, 0.0, 0.0>\n",
      "Gap from band 1 (0.22878697388087121) to band 2 (0.3066223040599163), 29.075077099300145%\n",
      "Gap from band 3 (0.43684934468726316) to band 4 (0.4603794511991463), 5.245062713047852%\n",
      "Gap from band 6 (0.6577746481135313) to band 7 (0.659279276108018), 0.22848388616677381%\n",
      "total elapsed time for run: 1.6017587184906006\n",
      "done\n"
     ]
    }
   ],
   "source": [
    "import meep as mp\n",
    "from meep import mpb\n",
    "import math\n",
    "\n",
    "num_bands = 8\n",
    "\n",
    "k_points = [mp.Vector3(),\n",
    "            mp.Vector3(0., 0.5),\n",
    "            mp.Vector3(-1/3, 1/3),\n",
    "            mp.Vector3()]\n",
    "\n",
    "k_points = mp.interpolate(10, k_points)\n",
    "\n",
    "geometry = [mp.Cylinder(0.25, material=mp.Medium(epsilon=12.96))]\n",
    "\n",
    "geometry_lattice = mp.Lattice(size=mp.Vector3(1, 1),\n",
    "                              basis1=mp.Vector3(math.sqrt(3)/2, 0.5),\n",
    "                              basis2=mp.Vector3(math.sqrt(3)/2, -0.5))\n",
    "\n",
    "default_material = mp.Medium(epsilon=2.4)\n",
    "\n",
    "resolution = 32\n",
    "\n",
    "ms = mpb.ModeSolver(num_bands=num_bands,\n",
    "                    k_points=k_points,\n",
    "                    geometry=geometry,\n",
    "                    geometry_lattice=geometry_lattice,\n",
    "                    resolution=resolution,\n",
    "                    default_material=default_material)\n",
    "\n",
    "result = ms.run_tm()"
   ]
  },
  {
   "cell_type": "code",
   "execution_count": 2,
   "metadata": {},
   "outputs": [
    {
     "data": {
      "image/png": "[encoded data removed]",
      "text/plain": [
       "<Figure size 432x288 with 1 Axes>"
      ]
     },
     "metadata": {},
     "output_type": "display_data"
    }
   ],
   "source": [
    "import matplotlib.pyplot as plt\n",
    "import numpy as np\n",
    "%matplotlib inline\n",
    "\n",
    "def resolve_crossovers(frequencies, crossovers):\n",
    "    freqs = np.copy(frequencies)\n",
    "    for i in range(len(crossovers)):\n",
    "        if crossovers[i] != 0:\n",
    "            for co in crossovers[i]:\n",
    "                temp = np.copy(freqs[co:, i+1])\n",
    "                freqs[co:, i+1] = freqs[co:, i]\n",
    "                freqs[co:, i] = temp\n",
    "    return freqs\n",
    "\n",
    "def plot_photonic_bands(frequencies, num_bands=4):\n",
    "    points_in_between = (len(frequencies) - 4) / 3\n",
    "    tick_locs = [i*points_in_between+i for i in range(4)]\n",
    "    tick_labs = ['Γ', 'X', 'M', 'Γ']\n",
    "    fig, ax = plt.subplots()\n",
    "\n",
    "    ax.plot(frequencies[:, :num_bands])\n",
    "    ax.set_xticks(tick_locs)\n",
    "    ax.set_xticklabels(tick_labs)\n",
    "\n",
    "new_freqs = resolve_crossovers(ms.all_freqs, crossovers=[0, [23]])\n",
    "plot_photonic_bands(new_freqs, num_bands=3)"
   ]
  },
  {
   "cell_type": "code",
   "execution_count": 3,
   "metadata": {},
   "outputs": [
    {
     "data": {
      "text/plain": [
       "[(29.075077099300145, 0.22878697388087121, 0.3066223040599163),\n",
       " (5.245062713047852, 0.43684934468726316, 0.4603794511991463),\n",
       " (0.22848388616677381, 0.6577746481135313, 0.659279276108018)]"
      ]
     },
     "execution_count": 3,
     "metadata": {},
     "output_type": "execute_result"
    }
   ],
   "source": [
    "ms.gap_list"
   ]
  },
  {
   "cell_type": "code",
   "execution_count": null,
   "metadata": {},
   "outputs": [],
   "source": []
  }
 ],
 "metadata": {
  "kernelspec": {
   "display_name": "Python 3",
   "language": "python",
   "name": "python3"
  },
  "language_info": {
   "codemirror_mode": {
    "name": "ipython",
    "version": 3
   },
   "file_extension": ".py",
   "mimetype": "text/x-python",
   "name": "python",
   "nbconvert_exporter": "python",
   "pygments_lexer": "ipython3",
   "version": "3.6.5"
  }
 },
 "nbformat": 4,
 "nbformat_minor": 2
}
