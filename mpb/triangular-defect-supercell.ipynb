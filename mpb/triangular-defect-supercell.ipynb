{
 "cells": [
  {
   "cell_type": "code",
   "execution_count": null,
   "metadata": {},
   "outputs": [],
   "source": [
    "import meep as mp\n",
    "from meep import mpb\n",
    "import math\n",
    "\n",
    "num_bands = 50\n",
    "gaas = mp.Medium(epsilon=12.96)\n",
    "k_points = [mp.Vector3(0., 0.5),]\n",
    "\n",
    "k_points = mp.interpolate(10, k_points)\n",
    "\n",
    "geometry_lattice = mp.Lattice(size=mp.Vector3(5, 5),\n",
    "                              basis1=mp.Vector3(math.sqrt(3)/2, 0.5),\n",
    "                              basis2=mp.Vector3(math.sqrt(3)/2, -0.5))\n",
    "\n",
    "geometry = [mp.Cylinder(0.25, material=gaas)]\n",
    "geometry = mp.geometric_objects_lattice_duplicates(geometry_lattice, geometry)\n",
    "geometry.append(mp.Cylinder(0.68, material=gaas))\n",
    "\n",
    "default_material = mp.Medium(epsilon=2.4)\n",
    "\n",
    "resolution = 32\n",
    "target_freq = (0.229 + 0.307) / 2\n",
    "\n",
    "ms = mpb.ModeSolver(num_bands=num_bands,\n",
    "                    k_points=k_points,\n",
    "                    geometry=geometry,\n",
    "                    geometry_lattice=geometry_lattice,\n",
    "                    resolution=resolution,\n",
    "                    default_material=default_material,\n",
    "                   target_freq=target_freq)\n",
    "\n",
    "result = ms.run_tm(mpb.output_at_kpoint(k_points[0], mpb.fix_efield_phase,\n",
    "          mpb.output_efield_z))"
   ]
  },
  {
   "cell_type": "code",
   "execution_count": null,
   "metadata": {},
   "outputs": [],
   "source": []
  }
 ],
 "metadata": {
  "kernelspec": {
   "display_name": "Python 3",
   "language": "python",
   "name": "python3"
  },
  "language_info": {
   "codemirror_mode": {
    "name": "ipython",
    "version": 3
   },
   "file_extension": ".py",
   "mimetype": "text/x-python",
   "name": "python",
   "nbconvert_exporter": "python",
   "pygments_lexer": "ipython3",
   "version": "3.6.5"
  }
 },
 "nbformat": 4,
 "nbformat_minor": 2
}
