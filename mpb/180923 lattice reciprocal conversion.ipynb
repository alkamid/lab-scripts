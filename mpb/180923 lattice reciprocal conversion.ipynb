{
 "cells": [
  {
   "cell_type": "code",
   "execution_count": 3,
   "metadata": {},
   "outputs": [],
   "source": [
    "import meep as mp\n",
    "from meep import mpb\n",
    "import math"
   ]
  },
  {
   "cell_type": "code",
   "execution_count": 4,
   "metadata": {},
   "outputs": [],
   "source": [
    "lattice = mp.Lattice(size=mp.Vector3(5, 5),\n",
    "                          basis1=mp.Vector3(math.sqrt(3)/2, 0.5),\n",
    "                          basis2=mp.Vector3(math.sqrt(3)/2, -0.5))"
   ]
  },
  {
   "cell_type": "code",
   "execution_count": 5,
   "metadata": {},
   "outputs": [],
   "source": [
    "real = mp.Vector3(1, 0)"
   ]
  },
  {
   "cell_type": "code",
   "execution_count": 7,
   "metadata": {},
   "outputs": [],
   "source": [
    "ms = mpb.ModeSolver(geometry_lattice=lattice,\n",
    "                    )"
   ]
  },
  {
   "cell_type": "code",
   "execution_count": 8,
   "metadata": {},
   "outputs": [
    {
     "data": {
      "text/plain": [
       "Vector3<0.33012701892219454, 0.33012701892219454, 0.0>"
      ]
     },
     "execution_count": 8,
     "metadata": {},
     "output_type": "execute_result"
    }
   ],
   "source": [
    "real = mp.Vector3(1, 0)\n",
    "rec = mp.cartesian_to_reciprocal(real, lattice)\n",
    "bril = ms.first_brillouin_zone(rec)\n",
    "bril"
   ]
  },
  {
   "cell_type": "code",
   "execution_count": 9,
   "metadata": {},
   "outputs": [
    {
     "data": {
      "text/plain": [
       "Vector3<0.5000000000000004, 0.49999999999999956, 0.0>"
      ]
     },
     "execution_count": 9,
     "metadata": {},
     "output_type": "execute_result"
    }
   ],
   "source": [
    "real = mp.Vector3(0, 1)\n",
    "rec = mp.cartesian_to_reciprocal(real, lattice)\n",
    "bril = ms.first_brillouin_zone(rec)\n",
    "bril"
   ]
  },
  {
   "cell_type": "code",
   "execution_count": 11,
   "metadata": {},
   "outputs": [
    {
     "data": {
      "text/plain": [
       "Vector3<-0.3333333333333333, 0.3333333333333333, 0.0>"
      ]
     },
     "execution_count": 11,
     "metadata": {},
     "output_type": "execute_result"
    }
   ],
   "source": [
    "rec=mp.Vector3(-1/3, 1/3)\n",
    "bril = ms.first_brillouin_zone(rec)\n",
    "bril"
   ]
  },
  {
   "cell_type": "code",
   "execution_count": null,
   "metadata": {},
   "outputs": [],
   "source": []
  }
 ],
 "metadata": {
  "kernelspec": {
   "display_name": "Python 3",
   "language": "python",
   "name": "python3"
  },
  "language_info": {
   "codemirror_mode": {
    "name": "ipython",
    "version": 3
   },
   "file_extension": ".py",
   "mimetype": "text/x-python",
   "name": "python",
   "nbconvert_exporter": "python",
   "pygments_lexer": "ipython3",
   "version": "3.6.5"
  }
 },
 "nbformat": 4,
 "nbformat_minor": 2
}
