{
 "cells": [
  {
   "cell_type": "code",
   "execution_count": 2,
   "metadata": {},
   "outputs": [],
   "source": [
    "import matplotlib.pyplot as plt\n",
    "import numpy as np\n",
    "%matplotlib inline"
   ]
  },
  {
   "cell_type": "code",
   "execution_count": 1,
   "metadata": {},
   "outputs": [
    {
     "name": "stdout",
     "output_type": "stream",
     "text": [
      "Initializing eigensolver data\n",
      "Computing 8 bands with 1e-07 tolerance\n",
      "16 k-points\n",
      "  Vector3<0.0, 0.0, 0.0>\n",
      "  Vector3<0.0, 0.1, 0.0>\n",
      "  Vector3<0.0, 0.2, 0.0>\n",
      "  Vector3<0.0, 0.30000000000000004, 0.0>\n",
      "  Vector3<0.0, 0.4, 0.0>\n",
      "  Vector3<0.0, 0.5, 0.0>\n",
      "  Vector3<-0.06666666666666667, 0.4666666666666667, 0.0>\n",
      "  Vector3<-0.13333333333333333, 0.43333333333333335, 0.0>\n",
      "  Vector3<-0.2, 0.39999999999999997, 0.0>\n",
      "  Vector3<-0.26666666666666666, 0.36666666666666664, 0.0>\n",
      "  Vector3<-0.3333333333333333, 0.3333333333333333, 0.0>\n",
      "  Vector3<-0.26666666666666666, 0.26666666666666666, 0.0>\n",
      "  Vector3<-0.19999999999999998, 0.19999999999999998, 0.0>\n",
      "  Vector3<-0.1333333333333333, 0.1333333333333333, 0.0>\n",
      "  Vector3<-0.06666666666666665, 0.06666666666666665, 0.0>\n",
      "  Vector3<0.0, 0.0, 0.0>\n",
      "elapsed time for initialization: 0.004171609878540039\n",
      "Outputting epsilon.h5...\n",
      "elapsed time for k point: 0.0905911922454834\n",
      "elapsed time for k point: 0.055701494216918945\n",
      "elapsed time for k point: 0.045659542083740234\n",
      "elapsed time for k point: 0.07368135452270508\n",
      "elapsed time for k point: 0.04258275032043457\n",
      "elapsed time for k point: 0.04249119758605957\n",
      "elapsed time for k point: 0.04757571220397949\n",
      "elapsed time for k point: 0.061188459396362305\n",
      "elapsed time for k point: 0.03998517990112305\n",
      "elapsed time for k point: 0.039756059646606445\n",
      "elapsed time for k point: 0.03606891632080078\n",
      "Outputting fields to e.k11.b01.z.tm.h5...\n",
      "Outputting fields to e.k11.b02.z.tm.h5...\n",
      "Outputting fields to e.k11.b03.z.tm.h5...\n",
      "Outputting fields to e.k11.b04.z.tm.h5...\n",
      "Outputting fields to e.k11.b05.z.tm.h5...\n",
      "Outputting fields to e.k11.b06.z.tm.h5...\n",
      "Outputting fields to e.k11.b07.z.tm.h5...\n",
      "Outputting fields to e.k11.b08.z.tm.h5...\n",
      "elapsed time for k point: 0.05903124809265137\n",
      "elapsed time for k point: 0.04381871223449707\n",
      "elapsed time for k point: 0.04783916473388672\n",
      "elapsed time for k point: 0.05981016159057617\n",
      "elapsed time for k point: 0.07385110855102539\n",
      "Band 1 range: 0.0 at Vector3<0.0, 0.0, 0.0> to 0.27469022601674825 at Vector3<-0.3333333333333333, 0.3333333333333333, 0.0>\n",
      "Band 2 range: 0.44533108106909675 at Vector3<0.0, 0.5, 0.0> to 0.5605181463869627 at Vector3<0.0, 0.0, 0.0>\n",
      "Band 3 range: 0.4902389149689675 at Vector3<-0.3333333333333333, 0.3333333333333333, 0.0> to 0.5605607990535272 at Vector3<0.0, 0.0, 0.0>\n",
      "Band 4 range: 0.5932960878698785 at Vector3<0.0, 0.0, 0.0> to 0.7907195975678284 at Vector3<-0.3333333333333333, 0.3333333333333333, 0.0>\n",
      "Band 5 range: 0.790832076496515 at Vector3<-0.3333333333333333, 0.3333333333333333, 0.0> to 0.8374511179880573 at Vector3<0.0, 0.0, 0.0>\n",
      "Band 6 range: 0.8375948535575019 at Vector3<0.0, 0.0, 0.0> to 0.8672009266363848 at Vector3<-0.2, 0.39999999999999997, 0.0>\n",
      "Band 7 range: 0.8691349976044128 at Vector3<-0.13333333333333333, 0.43333333333333335, 0.0> to 0.9941291198691656 at Vector3<0.0, 0.0, 0.0>\n",
      "Band 8 range: 0.8992499096210413 at Vector3<-0.3333333333333333, 0.3333333333333333, 0.0> to 1.0983183609808018 at Vector3<0.0, 0.0, 0.0>\n",
      "Gap from band 1 (0.27469022601674825) to band 2 (0.44533108106909675), 47.39883483253746%\n",
      "Gap from band 3 (0.5605607990535272) to band 4 (0.5932960878698785), 5.6740639480231065%\n",
      "Gap from band 4 (0.7907195975678284) to band 5 (0.790832076496515), 0.014223870206851423%\n",
      "Gap from band 5 (0.8374511179880573) to band 6 (0.8375948535575019), 0.01716198503041161%\n",
      "Gap from band 6 (0.8672009266363848) to band 7 (0.8691349976044128), 0.22277612770969557%\n",
      "total elapsed time for run: 0.9146349430084229\n",
      "done\n",
      "Initializing eigensolver data\n",
      "Computing 8 bands with 1e-07 tolerance\n",
      "16 k-points\n",
      "  Vector3<0.0, 0.0, 0.0>\n",
      "  Vector3<0.0, 0.1, 0.0>\n",
      "  Vector3<0.0, 0.2, 0.0>\n",
      "  Vector3<0.0, 0.30000000000000004, 0.0>\n",
      "  Vector3<0.0, 0.4, 0.0>\n",
      "  Vector3<0.0, 0.5, 0.0>\n",
      "  Vector3<-0.06666666666666667, 0.4666666666666667, 0.0>\n",
      "  Vector3<-0.13333333333333333, 0.43333333333333335, 0.0>\n",
      "  Vector3<-0.2, 0.39999999999999997, 0.0>\n",
      "  Vector3<-0.26666666666666666, 0.36666666666666664, 0.0>\n",
      "  Vector3<-0.3333333333333333, 0.3333333333333333, 0.0>\n",
      "  Vector3<-0.26666666666666666, 0.26666666666666666, 0.0>\n",
      "  Vector3<-0.19999999999999998, 0.19999999999999998, 0.0>\n",
      "  Vector3<-0.1333333333333333, 0.1333333333333333, 0.0>\n",
      "  Vector3<-0.06666666666666665, 0.06666666666666665, 0.0>\n",
      "  Vector3<0.0, 0.0, 0.0>\n",
      "elapsed time for initialization: 0.006161689758300781\n",
      "Outputting epsilon.h5...\n",
      "elapsed time for k point: 0.15283560752868652\n",
      "elapsed time for k point: 0.10227298736572266\n",
      "elapsed time for k point: 0.07835555076599121\n",
      "elapsed time for k point: 0.06203007698059082\n",
      "elapsed time for k point: 0.06897616386413574\n",
      "elapsed time for k point: 0.05510568618774414\n",
      "elapsed time for k point: 0.06617093086242676\n",
      "elapsed time for k point: 0.07337594032287598\n",
      "elapsed time for k point: 0.08975911140441895\n",
      "elapsed time for k point: 0.07498002052307129\n",
      "elapsed time for k point: 0.0859231948852539\n",
      "elapsed time for k point: 0.08907198905944824\n",
      "elapsed time for k point: 0.06461143493652344\n",
      "elapsed time for k point: 0.08724069595336914\n",
      "elapsed time for k point: 0.10591506958007812\n",
      "elapsed time for k point: 0.10394883155822754\n",
      "Band 1 range: 0.0 at Vector3<0.0, 0.0, 0.0> to 0.4912358164155421 at Vector3<-0.3333333333333333, 0.3333333333333333, 0.0>\n",
      "Band 2 range: 0.47307223980397584 at Vector3<0.0, 0.5, 0.0> to 0.5631059454934054 at Vector3<-0.3333333333333333, 0.3333333333333333, 0.0>\n",
      "Band 3 range: 0.5631505237340395 at Vector3<-0.3333333333333333, 0.3333333333333333, 0.0> to 0.7939289543994177 at Vector3<0.0, 0.0, 0.0>\n",
      "Band 4 range: 0.7676614802373236 at Vector3<0.0, 0.5, 0.0> to 0.8214230165371805 at Vector3<-0.3333333333333333, 0.3333333333333333, 0.0>\n",
      "Band 5 range: 0.8651948161670014 at Vector3<-0.3333333333333333, 0.3333333333333333, 0.0> to 1.0334130378837394 at Vector3<0.0, 0.0, 0.0>\n",
      "Band 6 range: 0.86523080078068 at Vector3<-0.3333333333333333, 0.3333333333333333, 0.0> to 1.0334231173608948 at Vector3<0.0, 0.0, 0.0>\n",
      "Band 7 range: 1.0213677201035718 at Vector3<0.0, 0.5, 0.0> to 1.1159672190021006 at Vector3<0.0, 0.0, 0.0>\n",
      "Band 8 range: 1.1086627112265826 at Vector3<-0.26666666666666666, 0.26666666666666666, 0.0> to 1.1168108652006026 at Vector3<0.0, 0.0, 0.0>\n",
      "Gap from band 2 (0.5631059454934054) to band 3 (0.5631505237340395), 0.007916179281023615%\n",
      "Gap from band 4 (0.8214230165371805) to band 5 (0.8651948161670014), 5.190482251648066%\n",
      "total elapsed time for run: 1.38558030128479\n",
      "done\n"
     ]
    }
   ],
   "source": [
    "import math\n",
    "import meep as mp\n",
    "from meep import mpb\n",
    "\n",
    "num_bands = 8\n",
    "resolution = 32\n",
    "geometry_lattice = mp.Lattice(size=mp.Vector3(1, 1),\n",
    "                              basis1=mp.Vector3(math.sqrt(3) / 2, 0.5),\n",
    "                              basis2=mp.Vector3(math.sqrt(3) / 2, -0.5))\n",
    "geometry = [mp.Cylinder(0.2, material=mp.Medium(epsilon=12))]\n",
    "k_points = [\n",
    "    mp.Vector3(),               # Gamma\n",
    "    mp.Vector3(y=0.5),          # M\n",
    "    mp.Vector3(1 / -3, 1 / 3),  # K\n",
    "    mp.Vector3(),               # Gamma\n",
    "]\n",
    "k_points = mp.interpolate(4, k_points)\n",
    "\n",
    "ms = mpb.ModeSolver(\n",
    "    geometry=geometry,\n",
    "    geometry_lattice=geometry_lattice,\n",
    "    k_points=k_points,\n",
    "    resolution=resolution,\n",
    "    num_bands=num_bands\n",
    ")\n",
    "ms.run_tm(mpb.output_at_kpoint(mp.Vector3(1 / -3, 1 / 3), mpb.fix_efield_phase,\n",
    "          mpb.output_efield_z))\n",
    "tm_freqs = ms.all_freqs\n",
    "tm_gaps = ms.gap_list\n",
    "ms.run_te()\n",
    "te_freqs = ms.all_freqs\n",
    "te_gaps = ms.gap_list"
   ]
  },
  {
   "cell_type": "code",
   "execution_count": 5,
   "metadata": {},
   "outputs": [
    {
     "name": "stdout",
     "output_type": "stream",
     "text": [
      "Initializing eigensolver data\n",
      "Computing 8 bands with 1e-07 tolerance\n",
      "16 k-points\n",
      "  Vector3<0.0, 0.0, 0.0>\n",
      "  Vector3<0.0, 0.1, 0.0>\n",
      "  Vector3<0.0, 0.2, 0.0>\n",
      "  Vector3<0.0, 0.30000000000000004, 0.0>\n",
      "  Vector3<0.0, 0.4, 0.0>\n",
      "  Vector3<0.0, 0.5, 0.0>\n",
      "  Vector3<-0.06666666666666667, 0.4666666666666667, 0.0>\n",
      "  Vector3<-0.13333333333333333, 0.43333333333333335, 0.0>\n",
      "  Vector3<-0.2, 0.39999999999999997, 0.0>\n",
      "  Vector3<-0.26666666666666666, 0.36666666666666664, 0.0>\n",
      "  Vector3<-0.3333333333333333, 0.3333333333333333, 0.0>\n",
      "  Vector3<-0.26666666666666666, 0.26666666666666666, 0.0>\n",
      "  Vector3<-0.19999999999999998, 0.19999999999999998, 0.0>\n",
      "  Vector3<-0.1333333333333333, 0.1333333333333333, 0.0>\n",
      "  Vector3<-0.06666666666666665, 0.06666666666666665, 0.0>\n",
      "  Vector3<0.0, 0.0, 0.0>\n",
      "elapsed time for initialization: 0.00611114501953125\n",
      "Outputting epsilon.h5...\n",
      "elapsed time for k point: 0.10001444816589355\n",
      "elapsed time for k point: 0.05996417999267578\n",
      "elapsed time for k point: 0.05382895469665527\n",
      "elapsed time for k point: 0.0482792854309082\n",
      "elapsed time for k point: 0.06704854965209961\n",
      "elapsed time for k point: 0.04594159126281738\n",
      "elapsed time for k point: 0.053566694259643555\n",
      "elapsed time for k point: 0.04610753059387207\n",
      "elapsed time for k point: 0.03913235664367676\n",
      "elapsed time for k point: 0.039084672927856445\n",
      "elapsed time for k point: 0.05995631217956543\n",
      "elapsed time for k point: 0.04987764358520508\n",
      "elapsed time for k point: 0.045241355895996094\n",
      "elapsed time for k point: 0.053000450134277344\n",
      "elapsed time for k point: 0.07826566696166992\n",
      "elapsed time for k point: 0.060247182846069336\n",
      "Band 1 range: 0.0 at Vector3<0.0, 0.0, 0.0> to 0.2746902260167482 at Vector3<-0.3333333333333333, 0.3333333333333333, 0.0>\n",
      "Band 2 range: 0.4453310810691098 at Vector3<0.0, 0.5, 0.0> to 0.5605181430819429 at Vector3<0.0, 0.0, 0.0>\n",
      "Band 3 range: 0.4902389149689676 at Vector3<-0.3333333333333333, 0.3333333333333333, 0.0> to 0.5605607964855761 at Vector3<0.0, 0.0, 0.0>\n",
      "Band 4 range: 0.5932960880346015 at Vector3<0.0, 0.0, 0.0> to 0.7907195975678288 at Vector3<-0.3333333333333333, 0.3333333333333333, 0.0>\n",
      "Band 5 range: 0.790832076496516 at Vector3<-0.3333333333333333, 0.3333333333333333, 0.0> to 0.8374511174251633 at Vector3<0.0, 0.0, 0.0>\n",
      "Band 6 range: 0.837594853406181 at Vector3<0.0, 0.0, 0.0> to 0.8672009266363928 at Vector3<-0.2, 0.39999999999999997, 0.0>\n",
      "Band 7 range: 0.8691349976047852 at Vector3<-0.13333333333333333, 0.43333333333333335, 0.0> to 0.9941291061767797 at Vector3<0.0, 0.0, 0.0>\n",
      "Band 8 range: 0.8992499096210417 at Vector3<-0.3333333333333333, 0.3333333333333333, 0.0> to 1.0983183646074062 at Vector3<0.0, 0.0, 0.0>\n",
      "Gap from band 1 (0.2746902260167482) to band 2 (0.4453310810691098), 47.398834832540246%\n",
      "Gap from band 3 (0.5605607964855761) to band 4 (0.5932960880346015), 5.674064433500026%\n",
      "Gap from band 4 (0.7907195975678288) to band 5 (0.790832076496516), 0.014223870206921608%\n",
      "Gap from band 5 (0.8374511174251633) to band 6 (0.837594853406181), 0.0171620341794383%\n",
      "Gap from band 6 (0.8672009266363928) to band 7 (0.8691349976047852), 0.22277612775161734%\n",
      "total elapsed time for run: 0.9477133750915527\n",
      "done\n"
     ]
    },
    {
     "ename": "NameError",
     "evalue": "name 'converted_eps' is not defined",
     "output_type": "error",
     "traceback": [
      "\u001b[0;31m---------------------------------------------------------------------------\u001b[0m",
      "\u001b[0;31mNameError\u001b[0m                                 Traceback (most recent call last)",
      "\u001b[0;32m<ipython-input-5-f455f10d920d>\u001b[0m in \u001b[0;36m<module>\u001b[0;34m()\u001b[0m\n\u001b[1;32m     17\u001b[0m \u001b[0;32mfor\u001b[0m \u001b[0mi\u001b[0m\u001b[0;34m,\u001b[0m \u001b[0mf\u001b[0m \u001b[0;32min\u001b[0m \u001b[0menumerate\u001b[0m\u001b[0;34m(\u001b[0m\u001b[0mconverted\u001b[0m\u001b[0;34m)\u001b[0m\u001b[0;34m:\u001b[0m\u001b[0;34m\u001b[0m\u001b[0m\n\u001b[1;32m     18\u001b[0m     \u001b[0mplt\u001b[0m\u001b[0;34m.\u001b[0m\u001b[0msubplot\u001b[0m\u001b[0;34m(\u001b[0m\u001b[0;36m331\u001b[0m \u001b[0;34m+\u001b[0m \u001b[0mi\u001b[0m\u001b[0;34m)\u001b[0m\u001b[0;34m\u001b[0m\u001b[0m\n\u001b[0;32m---> 19\u001b[0;31m     \u001b[0mplt\u001b[0m\u001b[0;34m.\u001b[0m\u001b[0mcontour\u001b[0m\u001b[0;34m(\u001b[0m\u001b[0mconverted_eps\u001b[0m\u001b[0;34m.\u001b[0m\u001b[0mT\u001b[0m\u001b[0;34m,\u001b[0m \u001b[0mcmap\u001b[0m\u001b[0;34m=\u001b[0m\u001b[0;34m'binary'\u001b[0m\u001b[0;34m)\u001b[0m\u001b[0;34m\u001b[0m\u001b[0m\n\u001b[0m\u001b[1;32m     20\u001b[0m     \u001b[0mplt\u001b[0m\u001b[0;34m.\u001b[0m\u001b[0mimshow\u001b[0m\u001b[0;34m(\u001b[0m\u001b[0mnp\u001b[0m\u001b[0;34m.\u001b[0m\u001b[0mreal\u001b[0m\u001b[0;34m(\u001b[0m\u001b[0mf\u001b[0m\u001b[0;34m)\u001b[0m\u001b[0;34m.\u001b[0m\u001b[0mT\u001b[0m\u001b[0;34m,\u001b[0m \u001b[0minterpolation\u001b[0m\u001b[0;34m=\u001b[0m\u001b[0;34m'spline36'\u001b[0m\u001b[0;34m,\u001b[0m \u001b[0mcmap\u001b[0m\u001b[0;34m=\u001b[0m\u001b[0;34m'RdBu'\u001b[0m\u001b[0;34m,\u001b[0m \u001b[0malpha\u001b[0m\u001b[0;34m=\u001b[0m\u001b[0;36m0.9\u001b[0m\u001b[0;34m)\u001b[0m\u001b[0;34m\u001b[0m\u001b[0m\n\u001b[1;32m     21\u001b[0m     \u001b[0mplt\u001b[0m\u001b[0;34m.\u001b[0m\u001b[0maxis\u001b[0m\u001b[0;34m(\u001b[0m\u001b[0;34m'off'\u001b[0m\u001b[0;34m)\u001b[0m\u001b[0;34m\u001b[0m\u001b[0m\n",
      "\u001b[0;31mNameError\u001b[0m: name 'converted_eps' is not defined"
     ]
    },
    {
     "data": {
      "image/png": "[encoded data removed]",
      "text/plain": [
       "<Figure size 432x288 with 1 Axes>"
      ]
     },
     "metadata": {},
     "output_type": "display_data"
    }
   ],
   "source": [
    "efields = []\n",
    "def get_efields(ms, band):\n",
    "    efields.append(ms.get_efield(band, bloch_phase=True))\n",
    "\n",
    "ms.run_tm(mpb.output_at_kpoint(mp.Vector3(1 / -3, 1 / 3), mpb.fix_efield_phase,\n",
    "          get_efields))\n",
    "\n",
    "# Create an MPBData instance to transform the efields\n",
    "md = mpb.MPBData(rectify=True, resolution=32, periods=3)\n",
    "\n",
    "converted = []\n",
    "for f in efields:\n",
    "    # Get just the z component of the efields\n",
    "    f = f[..., 2]\n",
    "    converted.append(md.convert(f))\n",
    "\n",
    "for i, f in enumerate(converted):\n",
    "    plt.subplot(331 + i)\n",
    "    plt.contour(converted_eps.T, cmap='binary')\n",
    "    plt.imshow(np.real(f).T, interpolation='spline36', cmap='RdBu', alpha=0.9)\n",
    "    plt.axis('off')\n",
    "\n",
    "plt.show()"
   ]
  },
  {
   "cell_type": "code",
   "execution_count": 6,
   "metadata": {},
   "outputs": [
    {
     "data": {
      "text/plain": [
       "(-0.5, 191.5, 165.5, -0.5)"
      ]
     },
     "execution_count": 6,
     "metadata": {},
     "output_type": "execute_result"
    },
    {
     "data": {
      "image/png": "[encoded data removed]",
      "text/plain": [
       "<Figure size 432x288 with 1 Axes>"
      ]
     },
     "metadata": {},
     "output_type": "display_data"
    }
   ],
   "source": [
    "plt.imshow(converted_eps.T, interpolation='spline36', cmap='binary')\n",
    "plt.axis('off')"
   ]
  },
  {
   "cell_type": "code",
   "execution_count": 9,
   "metadata": {},
   "outputs": [],
   "source": [
    "ef = ms.get_efield(1, bloch_phase=True)"
   ]
  },
  {
   "cell_type": "code",
   "execution_count": 11,
   "metadata": {},
   "outputs": [
    {
     "data": {
      "text/plain": [
       "(32, 32, 1, 3)"
      ]
     },
     "execution_count": 11,
     "metadata": {},
     "output_type": "execute_result"
    }
   ],
   "source": [
    "ef.shape"
   ]
  },
  {
   "cell_type": "code",
   "execution_count": 12,
   "metadata": {},
   "outputs": [
    {
     "name": "stdout",
     "output_type": "stream",
     "text": [
      "Initializing eigensolver data\n",
      "Computing 8 bands with 1e-07 tolerance\n",
      "16 k-points\n",
      "  Vector3<0.0, 0.0, 0.0>\n",
      "  Vector3<0.0, 0.1, 0.0>\n",
      "  Vector3<0.0, 0.2, 0.0>\n",
      "  Vector3<0.0, 0.30000000000000004, 0.0>\n",
      "  Vector3<0.0, 0.4, 0.0>\n",
      "  Vector3<0.0, 0.5, 0.0>\n",
      "  Vector3<-0.06666666666666667, 0.4666666666666667, 0.0>\n",
      "  Vector3<-0.13333333333333333, 0.43333333333333335, 0.0>\n",
      "  Vector3<-0.2, 0.39999999999999997, 0.0>\n",
      "  Vector3<-0.26666666666666666, 0.36666666666666664, 0.0>\n",
      "  Vector3<-0.3333333333333333, 0.3333333333333333, 0.0>\n",
      "  Vector3<-0.26666666666666666, 0.26666666666666666, 0.0>\n",
      "  Vector3<-0.19999999999999998, 0.19999999999999998, 0.0>\n",
      "  Vector3<-0.1333333333333333, 0.1333333333333333, 0.0>\n",
      "  Vector3<-0.06666666666666665, 0.06666666666666665, 0.0>\n",
      "  Vector3<0.0, 0.0, 0.0>\n",
      "elapsed time for initialization: 0.007373332977294922\n",
      "Outputting epsilon.h5...\n",
      "elapsed time for k point: 0.11075496673583984\n",
      "elapsed time for k point: 0.05318808555603027\n",
      "elapsed time for k point: 0.04919695854187012\n",
      "elapsed time for k point: 0.04758119583129883\n",
      "elapsed time for k point: 0.04171943664550781\n",
      "elapsed time for k point: 0.04094552993774414\n",
      "elapsed time for k point: 0.060126304626464844\n",
      "elapsed time for k point: 0.0441133975982666\n",
      "elapsed time for k point: 0.03760099411010742\n",
      "elapsed time for k point: 0.03973507881164551\n",
      "elapsed time for k point: 0.03795933723449707\n",
      "elapsed time for k point: 0.04369163513183594\n",
      "elapsed time for k point: 0.04398965835571289\n",
      "elapsed time for k point: 0.04800224304199219\n",
      "elapsed time for k point: 0.0571904182434082\n",
      "elapsed time for k point: 0.05233883857727051\n",
      "Band 1 range: 0.0 at Vector3<0.0, 0.0, 0.0> to 0.2746902260167482 at Vector3<-0.3333333333333333, 0.3333333333333333, 0.0>\n",
      "Band 2 range: 0.4453310810690971 at Vector3<0.0, 0.5, 0.0> to 0.5605181430819429 at Vector3<0.0, 0.0, 0.0>\n",
      "Band 3 range: 0.49023891496896754 at Vector3<-0.3333333333333333, 0.3333333333333333, 0.0> to 0.5605607964855761 at Vector3<0.0, 0.0, 0.0>\n",
      "Band 4 range: 0.5932960880346015 at Vector3<0.0, 0.0, 0.0> to 0.7907195975678294 at Vector3<-0.3333333333333333, 0.3333333333333333, 0.0>\n",
      "Band 5 range: 0.7908320764965168 at Vector3<-0.3333333333333333, 0.3333333333333333, 0.0> to 0.8374511174251633 at Vector3<0.0, 0.0, 0.0>\n",
      "Band 6 range: 0.8375948534061814 at Vector3<0.0, 0.0, 0.0> to 0.8672009266363931 at Vector3<-0.2, 0.39999999999999997, 0.0>\n",
      "Band 7 range: 0.8691349976047841 at Vector3<-0.13333333333333333, 0.43333333333333335, 0.0> to 0.9941291061767797 at Vector3<0.0, 0.0, 0.0>\n",
      "Band 8 range: 0.8992499096210417 at Vector3<-0.3333333333333333, 0.3333333333333333, 0.0> to 1.0983183646074062 at Vector3<0.0, 0.0, 0.0>\n",
      "Gap from band 1 (0.2746902260167482) to band 2 (0.4453310810690971), 47.39883483253755%\n",
      "Gap from band 3 (0.5605607964855761) to band 4 (0.5932960880346015), 5.674064433500026%\n",
      "Gap from band 4 (0.7907195975678294) to band 5 (0.7908320764965168), 0.014223870206949676%\n",
      "Gap from band 5 (0.8374511174251633) to band 6 (0.8375948534061814), 0.017162034179491317%\n",
      "Gap from band 6 (0.8672009266363931) to band 7 (0.8691349976047841), 0.2227761277514512%\n",
      "total elapsed time for run: 0.8401346206665039\n",
      "done\n"
     ]
    }
   ],
   "source": [
    "efields = []\n",
    "def get_efields(ms, band):\n",
    "    efields.append(ms.get_efield(band, bloch_phase=True))\n",
    "\n",
    "ms.run_tm(mpb.output_at_kpoint(mp.Vector3(1 / -3, 1 / 3), mpb.fix_efield_phase,\n",
    "          get_efields))\n",
    "\n",
    "# Create an MPBData instance to transform the efields\n",
    "md = mpb.MPBData(rectify=True, resolution=32, periods=3)\n",
    "\n",
    "\n"
   ]
  },
  {
   "cell_type": "code",
   "execution_count": 20,
   "metadata": {},
   "outputs": [
    {
     "data": {
      "text/plain": [
       "(32, 32, 1, 3)"
      ]
     },
     "execution_count": 20,
     "metadata": {},
     "output_type": "execute_result"
    }
   ],
   "source": [
    "efields[0].shape"
   ]
  },
  {
   "cell_type": "code",
   "execution_count": 27,
   "metadata": {},
   "outputs": [
    {
     "name": "stdout",
     "output_type": "stream",
     "text": [
      "(96, 83, 96)\n"
     ]
    }
   ],
   "source": [
    "print(converted[0].shape)"
   ]
  }
 ],
 "metadata": {
  "kernelspec": {
   "display_name": "Python 3",
   "language": "python",
   "name": "python3"
  },
  "language_info": {
   "codemirror_mode": {
    "name": "ipython",
    "version": 3
   },
   "file_extension": ".py",
   "mimetype": "text/x-python",
   "name": "python",
   "nbconvert_exporter": "python",
   "pygments_lexer": "ipython3",
   "version": "3.6.5"
  }
 },
 "nbformat": 4,
 "nbformat_minor": 2
}
